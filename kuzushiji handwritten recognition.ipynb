{
  "cells": [
    {
      "cell_type": "code",
      "source": [
        "from google.colab import drive\n",
        "drive.mount('/content/drive')"
      ],
      "metadata": {
        "colab": {
          "base_uri": "https://localhost:8080/"
        },
        "id": "u71klgiIXhUK",
        "outputId": "4dc9ff8f-911c-4034-9148-2302ce04d6e3"
      },
      "execution_count": null,
      "outputs": [
        {
          "output_type": "stream",
          "name": "stdout",
          "text": [
            "Mounted at /content/drive\n"
          ]
        }
      ]
    },
    {
      "cell_type": "code",
      "source": [
        "from google.colab import drive\n",
        "drive.mount('/gdrive')\n",
        "%cd /gdrive"
      ],
      "metadata": {
        "colab": {
          "base_uri": "https://localhost:8080/"
        },
        "id": "kAE0mwpvZoc2",
        "outputId": "1b218cf1-3a56-4161-e6b1-f2db4b506a22"
      },
      "execution_count": null,
      "outputs": [
        {
          "output_type": "stream",
          "name": "stdout",
          "text": [
            "Mounted at /gdrive\n",
            "/gdrive\n"
          ]
        }
      ]
    },
    {
      "cell_type": "code",
      "execution_count": null,
      "metadata": {
        "colab": {
          "base_uri": "https://localhost:8080/",
          "height": 1000
        },
        "id": "OOynFf4sKSO1",
        "outputId": "63cc6075-89c3-432b-b1b2-0b3a1a68aa20"
      },
      "outputs": [
        {
          "output_type": "stream",
          "name": "stdout",
          "text": [
            "Downloading data from https://storage.googleapis.com/tensorflow/tf-keras-datasets/mnist.npz\n",
            "11493376/11490434 [==============================] - 0s 0us/step\n",
            "11501568/11490434 [==============================] - 0s 0us/step\n"
          ]
        },
        {
          "output_type": "display_data",
          "data": {
            "text/plain": [
              "<Figure size 432x288 with 1 Axes>"
            ],
            "image/png": "[encoded data removed]"
          },
          "metadata": {
            "needs_background": "light"
          }
        },
        {
          "output_type": "display_data",
          "data": {
            "text/plain": [
              "<Figure size 432x288 with 1 Axes>"
            ],
            "image/png": "[encoded data removed]"
          },
          "metadata": {
            "needs_background": "light"
          }
        },
        {
          "output_type": "display_data",
          "data": {
            "text/plain": [
              "<Figure size 432x288 with 1 Axes>"
            ],
            "image/png": "[encoded data removed]"
          },
          "metadata": {
            "needs_background": "light"
          }
        },
        {
          "output_type": "stream",
          "name": "stdout",
          "text": [
            "Model: \"sequential\"\n",
            "_________________________________________________________________\n",
            " Layer (type)                Output Shape              Param #   \n",
            "=================================================================\n",
            " conv2d (Conv2D)             (None, 28, 28, 32)        320       \n",
            "                                                                 \n",
            " conv2d_1 (Conv2D)           (None, 28, 28, 32)        9248      \n",
            "                                                                 \n",
            " conv2d_2 (Conv2D)           (None, 28, 28, 32)        9248      \n",
            "                                                                 \n",
            " max_pooling2d (MaxPooling2D  (None, 14, 14, 32)       0         \n",
            " )                                                               \n",
            "                                                                 \n",
            " conv2d_3 (Conv2D)           (None, 14, 14, 64)        18496     \n",
            "                                                                 \n",
            " conv2d_4 (Conv2D)           (None, 14, 14, 64)        36928     \n",
            "                                                                 \n",
            " max_pooling2d_1 (MaxPooling  (None, 7, 7, 64)         0         \n",
            " 2D)                                                             \n",
            "                                                                 \n",
            " dropout (Dropout)           (None, 7, 7, 64)          0         \n",
            "                                                                 \n",
            " conv2d_5 (Conv2D)           (None, 7, 7, 64)          36928     \n",
            "                                                                 \n",
            " conv2d_6 (Conv2D)           (None, 7, 7, 64)          36928     \n",
            "                                                                 \n",
            " max_pooling2d_2 (MaxPooling  (None, 3, 3, 64)         0         \n",
            " 2D)                                                             \n",
            "                                                                 \n",
            " dropout_1 (Dropout)         (None, 3, 3, 64)          0         \n",
            "                                                                 \n",
            " flatten (Flatten)           (None, 576)               0         \n",
            "                                                                 \n",
            " dense (Dense)               (None, 512)               295424    \n",
            "                                                                 \n",
            " dense_1 (Dense)             (None, 49)                25137     \n",
            "                                                                 \n",
            "=================================================================\n",
            "Total params: 468,657\n",
            "Trainable params: 468,657\n",
            "Non-trainable params: 0\n",
            "_________________________________________________________________\n",
            "None\n",
            "Epoch 1/10\n",
            "1816/1816 [==============================] - 38s 15ms/step - loss: 0.4319 - accuracy: 0.8824 - val_loss: 0.3209 - val_accuracy: 0.9170\n",
            "Epoch 2/10\n",
            "1816/1816 [==============================] - 28s 15ms/step - loss: 0.1442 - accuracy: 0.9588 - val_loss: 0.2438 - val_accuracy: 0.9354\n",
            "Epoch 3/10\n",
            " 556/1816 [========>.....................] - ETA: 18s - loss: 0.1073 - accuracy: 0.9684"
          ]
        }
      ],
      "source": [
        "%matplotlib inline\n",
        "import cv2\n",
        "import os\n",
        "import numpy as np\n",
        "from google.colab.patches import cv2_imshow\n",
        "from tensorflow.keras import models, layers, utils, datasets\n",
        "(_trainData, _trainLabels), (_testData, _testLabels) = datasets.mnist.load_data()\n",
        "from matplotlib import pyplot\n",
        "\n",
        "def showImage(image):  \n",
        "    pyplot.imshow(image)\n",
        "    pyplot.show()\n",
        "\n",
        "dir1 = \"/gdrive/MyDrive/Colab_Notebooks/kmnist/k49-train-imgs.npz\"\n",
        "dir2 = \"/gdrive/MyDrive/Colab_Notebooks/kmnist/k49-train-labels.npz\"\n",
        "dir3 = \"/gdrive/MyDrive/Colab_Notebooks/kmnist/k49-test-imgs.npz\"\n",
        "dir4 = \"/gdrive/MyDrive/Colab_Notebooks/kmnist/k49-test-labels.npz\"\n",
        "\n",
        "timg   = np.load(dir1)['arr_0']\n",
        "tlabel  = np.load(dir2)['arr_0']\n",
        "vimg   = np.load(dir3)['arr_0']\n",
        "vlabel  = np.load(dir4)['arr_0']\n",
        "\n",
        "\n",
        "for i in range(0, 3):\n",
        "    showImage(timg[i])\n",
        "\n",
        "timg,vimg = timg.reshape(232365,28,28,1).astype(\"float32\"),vimg.reshape(38547,28,28,1).astype(\"float32\")\n",
        "timg,vimg = timg/255,vimg/255\n",
        "\n",
        "tlabel,vlabel = utils.to_categorical(tlabel, 49), utils.to_categorical(vlabel, 49)\n",
        "\n",
        "_model = models.Sequential()\n",
        "_model.add(layers.Conv2D(32,kernel_size=3,padding=\"same\",input_shape=(28,28,1),\n",
        "activation='relu'))\n",
        "_model.add(layers.Conv2D(32,kernel_size=3,padding=\"same\",activation='relu'))\n",
        "_model.add(layers.Conv2D(32,kernel_size=3,padding=\"same\",activation='relu'))\n",
        "_model.add(layers.MaxPooling2D(pool_size=(2,2)))\n",
        "_model.add(layers.Conv2D(64,kernel_size=3,padding=\"same\",activation='relu'))\n",
        "_model.add(layers.Conv2D(64,kernel_size=3,padding=\"same\",activation='relu'))\n",
        "_model.add(layers.MaxPooling2D(pool_size=(2,2)))\n",
        "_model.add(layers.Dropout(0.1))\n",
        "_model.add(layers.Conv2D(64,kernel_size=3,padding=\"same\",activation='relu'))\n",
        "_model.add(layers.Conv2D(64,kernel_size=3,padding=\"same\",activation='relu'))\n",
        "_model.add(layers.MaxPooling2D(pool_size=(2,2)))\n",
        "_model.add(layers.Dropout(0.1))\n",
        "_model.add(layers.Flatten())\n",
        "_model.add(layers.Dense(512, activation='relu'))\n",
        "_model.add(layers.Dense(49, activation='softmax'))\n",
        "\n",
        "\n",
        "print(_model.summary())\n",
        "\n",
        "_model.compile(optimizer='Adam', loss='categorical_crossentropy', metrics=['accuracy'])\n",
        "_history = _model.fit(x=timg, y=tlabel, epochs=10, batch_size=128, validation_data=(vimg,vlabel),shuffle=True )\n",
        "_scores = _model.evaluate(x=vimg, y=vlabel)\n",
        "print(_scores)\n",
        "\n",
        "from matplotlib import pyplot\n",
        "def showTrainHistory(_history, key_loss, key_acc, title):  \n",
        "    pyplot.plot(_history.history[key_loss])  \n",
        "    pyplot.plot(_history.history[key_acc])  \n",
        "    pyplot.title(title)  \n",
        "    pyplot.ylabel(key_loss+','+key_acc)  \n",
        "    pyplot.xlabel('Epoch')  \n",
        "    pyplot.legend([key_loss, key_acc], loc='upper left')  \n",
        "    pyplot.show()\n",
        "\n",
        "showTrainHistory(_history,\"accuracy\",\"val_accuracy\",\"ACC Model\")\n",
        "showTrainHistory(_history,\"loss\",\"val_loss\",\"LOSS Model\")"
      ]
    },
    {
      "cell_type": "code",
      "source": [
        "simg   = np.load(dir3)['arr_0']\n",
        "slabel   = np.load(dir4)['arr_0']\n",
        "\n",
        "import random\n",
        "for i in range(30):\n",
        "  img = np.load(dir3)['arr_0']\n",
        "  img = (img.reshape(38547,28,28,1).astype(\"float32\"))/255\n",
        "  rn = random.randint(0, 9999)\n",
        "  predictions = np.argmax(_model.predict(img)[rn], axis=-1)\n",
        "  \n",
        "  print(\"word number: \")\n",
        "  print(rn)\n",
        "  showImage(simg[rn])\n",
        "  print(\"prediction: \")\n",
        "  string = \"あいうえおかきくけこさしすせそたちつてとなにぬねのはひふへほまみむめもやゆよらりるれろわゐゑをんゝ\"\n",
        "  print(string[predictions])\n",
        "  \n",
        "  print(\"answer :\")\n",
        "  for k in range(0,49):\n",
        "    if(vlabel[rn][k]==1):\n",
        "      print(string[k])\n",
        "      break\n",
        "  print(\"=================================\")\n"
      ],
      "metadata": {
        "id": "FXNvhE9CXdw3"
      },
      "execution_count": null,
      "outputs": []
    },
    {
      "cell_type": "code",
      "source": [
        "from google.colab import files\n",
        "import numpy as np\n",
        "import os\n",
        "string = \"あいうえおかきくけこさしすせそたちつてとなにぬねのはひふへほまみむめもやゆよらりるれろわゐゑをんゝ\"\n",
        "\n",
        "upload_dir = \"/content/testing/\"\n",
        "for file in os.listdir(upload_dir):\n",
        "  uploaded = np.ndarray(shape=(1,28,28,1))\n",
        "  uploaded = cv2.imread(upload_dir+'/'+file)\n",
        "  uploaded = cv2.cvtColor(uploaded, cv2.COLOR_BGR2GRAY)\n",
        "  showImage(uploaded)\n",
        "  uploaded = (uploaded.reshape(1,28,28,1).astype(\"float32\"))/255\n",
        "  predictions = np.argmax(_model.predict(uploaded)[0], axis=-1)\n",
        "  print(\"prediction: \")\n",
        "  print(string[predictions])\n",
        "  print(\"=================================\")\n",
        "\n",
        "\n",
        "\n"
      ],
      "metadata": {
        "id": "k692xZKfVtOX"
      },
      "execution_count": null,
      "outputs": []
    }
  ],
  "metadata": {
    "kernelspec": {
      "display_name": "Python 3",
      "language": "python",
      "name": "python3"
    },
    "language_info": {
      "codemirror_mode": {
        "name": "ipython",
        "version": 3
      },
      "file_extension": ".py",
      "mimetype": "text/x-python",
      "name": "python",
      "nbconvert_exporter": "python",
      "pygments_lexer": "ipython3",
      "version": "3.6.6"
    },
    "colab": {
      "name": "「期末project2.0」的副本",
      "provenance": [],
      "collapsed_sections": []
    },
    "accelerator": "GPU",
    "gpuClass": "standard"
  },
  "nbformat": 4,
  "nbformat_minor": 0
}